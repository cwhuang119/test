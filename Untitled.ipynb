{
 "cells": [
  {
   "cell_type": "code",
   "execution_count": 245,
   "metadata": {
    "collapsed": false
   },
   "outputs": [],
   "source": [
    "def ngram_probs(filename):\n",
    "    import re\n",
    "    with open(filename,'rb') as f:\n",
    "        text = f.read().decode('utf-8')\n",
    "    text = text.lower()\n",
    "    text = text.replace(',',',\\n')\n",
    "    text = text.replace(\" '\",\"'\")\n",
    "    text = text.replace(' .','.')\n",
    "    text = text.replace(' ,',',')\n",
    "    text = text.replace(' ?','?')\n",
    "    sens  = text.split('\\n')  \n",
    "    re_sens = re.findall(r'[a-z].*[?.,]',text)\n",
    "    bi=0\n",
    "    tri=0\n",
    "    for re_sen in re_sens:\n",
    "        n = re_sen.count(' ')\n",
    "        if n==1:\n",
    "            bi+=1\n",
    "        if n==2:\n",
    "            tri+=1\n",
    "    total = len(re_sens)\n",
    "    pro_bi = bi/total\n",
    "    pro_tri = tri/total\n",
    "    return pro_bi,pro_tri"
   ]
  },
  {
   "cell_type": "code",
   "execution_count": 244,
   "metadata": {
    "collapsed": false
   },
   "outputs": [],
   "source": [
    "def prob3(filename):\n",
    "    with open(filename,'rb') as f:\n",
    "        text = f.read().decode('utf-8')\n",
    "    text = text.lower()\n",
    "    text = text.replace(',',',\\n')\n",
    "    text = text.replace(\" '\",\"'\")\n",
    "    text = text.replace(' .','.')\n",
    "    text = text.replace(' ,',',')\n",
    "    text = text.replace(' ?','?')\n",
    "    sens  = text.split('\\n')  \n",
    "    re_sens = re.findall(r'[a-z].*[?.,]',text)\n",
    "    t_weare = re.findall(r'we are',text)\n",
    "    t_family = re.findall(r'we are family',text)\n",
    "    pro = len(t_family)/len(t_weare)\n",
    "    return pro"
   ]
  },
  {
   "cell_type": "code",
   "execution_count": 243,
   "metadata": {
    "collapsed": false
   },
   "outputs": [],
   "source": [
    "\n",
    "def predict_max(filename,first_word,second_word):\n",
    "    with open(filename,'rb') as f:\n",
    "        text = f.read().decode('utf-8')\n",
    "    text = text.lower()\n",
    "    text = text.replace(',',',\\n')\n",
    "    text = text.replace(\" '\",\"'\")\n",
    "    text = text.replace(' .','.')\n",
    "    text = text.replace(' ,',',')\n",
    "    text = text.replace(' ?','?')\n",
    "    sens  = text.split('\\n')  \n",
    "    re_sens = re.findall(r'[a-z].*[?.,]',text)\n",
    "    sentence=''\n",
    "    while True:\n",
    "        v = {}\n",
    "        sent = first_word+' '+second_word+' '\n",
    "        for sen in re_sens:\n",
    "            if sent in sen: \n",
    "                try:\n",
    "                    next_s = sen.split(sent)[1]\n",
    "\n",
    "                    next_w = re.findall('[a-z]*',next_s)\n",
    "                    next_w = next_w[0]\n",
    "                    if next_w in v:\n",
    "                        n = v[next_w]\n",
    "                        v[next_w]=n+1\n",
    "                    else :\n",
    "                        v[next_w]=1\n",
    "                except:\n",
    "                    pass\n",
    "        key_max = max(v.keys(), key=(lambda k: v[k]))\n",
    "        sentence+=first_word+' '\n",
    "\n",
    "        first_word = second_word\n",
    "        second_word = key_max\n",
    "        if len(sentence.split(' '))>15:\n",
    "            sentence=sentence[:-1]\n",
    "            break\n",
    "        if sentence[-2]=='.':\n",
    "            sentence=sentence[:-1]\n",
    "            break\n",
    "    return sentence"
   ]
  },
  {
   "cell_type": "code",
   "execution_count": null,
   "metadata": {
    "collapsed": true
   },
   "outputs": [],
   "source": []
  }
 ],
 "metadata": {
  "anaconda-cloud": {},
  "kernelspec": {
   "display_name": "Python [conda root]",
   "language": "python",
   "name": "conda-root-py"
  },
  "language_info": {
   "codemirror_mode": {
    "name": "ipython",
    "version": 3
   },
   "file_extension": ".py",
   "mimetype": "text/x-python",
   "name": "python",
   "nbconvert_exporter": "python",
   "pygments_lexer": "ipython3",
   "version": "3.5.2"
  }
 },
 "nbformat": 4,
 "nbformat_minor": 2
}
